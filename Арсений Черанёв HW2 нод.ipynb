{
  "nbformat": 4,
  "nbformat_minor": 0,
  "metadata": {
    "colab": {
      "provenance": []
    },
    "kernelspec": {
      "name": "python3",
      "display_name": "Python 3"
    },
    "language_info": {
      "name": "python"
    }
  },
  "cells": [
    {
      "cell_type": "markdown",
      "source": [
        "## 1. Подсчет количества дней\n",
        "\n",
        "Создай целочисленные переменные, которые отвечают за:\n",
        "- количество дней для проращивания семян\n",
        "- количество дней для выращивания рассады\n",
        "- количество дней до плодоношения\n",
        "\n",
        "Сложи все три переменные. Выведи на экран результат - число дней от момента начала проращивания семян до момента, когда созреют помидоры."
      ],
      "metadata": {
        "id": "xPCW0t6jIduY"
      }
    },
    {
      "cell_type": "code",
      "execution_count": 19,
      "metadata": {
        "id": "O6sEcKdFIMZb",
        "colab": {
          "base_uri": "https://localhost:8080/"
        },
        "outputId": "318c2fe3-bd5e-4611-c76d-86adb3648312"
      },
      "outputs": [
        {
          "output_type": "stream",
          "name": "stdout",
          "text": [
            "30\n"
          ]
        }
      ],
      "source": [
        "a=10\n",
        "b=10\n",
        "c=10\n",
        "print(a+b+c)"
      ]
    },
    {
      "cell_type": "markdown",
      "source": [
        "## 2. Сохранение данных о сорте.\n",
        "\n",
        "Продуктивность сорта считается по простой формуле - [количество кг, собранных со всех кустов] / [количество кустов]\n",
        "\n",
        "Считай с клавиатуры количество килограмм, собранных со всех кустов и количество кустов (целые числа). Подели и округли до 2 знаков после запятой, результат выведи на экран."
      ],
      "metadata": {
        "id": "ZmLLCikNIAdT"
      }
    },
    {
      "cell_type": "code",
      "execution_count": 20,
      "metadata": {
        "id": "IWNzBK6AIouo",
        "colab": {
          "base_uri": "https://localhost:8080/"
        },
        "outputId": "d864946d-75f9-4276-8617-13784c5b9590"
      },
      "outputs": [
        {
          "output_type": "stream",
          "name": "stdout",
          "text": [
            "75\n",
            "23\n",
            "3.26\n"
          ]
        }
      ],
      "source": [
        "a = int(input())\n",
        "b = int(input())\n",
        "print(round(a/b,2))"
      ]
    },
    {
      "cell_type": "markdown",
      "source": [
        "## 3. Средняя сладость клубники.\n",
        "\n",
        "Ваша бабушка решила поспорить с соседкой, у кого клубника более сладкая. Они посадили кусты и потом оценили сладость клубники, собранной с каждого из кустов, по шкале от 0 до 10. Ваша задача - посчитать среднее для двух массивов и определить, у кого слаще клубника в среднем."
      ],
      "metadata": {
        "id": "O9dAr1NdJpyT"
      }
    },
    {
      "cell_type": "code",
      "execution_count": 21,
      "metadata": {
        "id": "oy8HPWpiIpOv",
        "colab": {
          "base_uri": "https://localhost:8080/"
        },
        "outputId": "1012277c-07c0-4440-b0e0-c4c6ab2d02a5"
      },
      "outputs": [
        {
          "output_type": "stream",
          "name": "stdout",
          "text": [
            "7.333333333333333\n",
            "5.25\n",
            "7.333333333333333\n"
          ]
        }
      ],
      "source": [
        "grandma_strawberries = [5, 7, 10, 9, 3, 10]\n",
        "neighbour_strawberries = [10, 6, 2, 3]\n",
        "\n",
        "sum_g = 0\n",
        "sum_n = 0\n",
        "for i in range(len(grandma_strawberries)):\n",
        "  sum_g += grandma_strawberries[i]\n",
        "for i in range(len(neighbour_strawberries)):\n",
        "  sum_n += neighbour_strawberries[i]\n",
        "\n",
        "ag_g = sum_g/len(grandma_strawberries)\n",
        "ag_n = sum_n/len(neighbour_strawberries)\n",
        "\n",
        "winner = max(ag_g,ag_n)\n",
        "print(ag_g, ag_n, winner, sep = '\\n')"
      ]
    },
    {
      "cell_type": "markdown",
      "source": [
        "## 4. Список растений на даче.\n",
        "\n",
        "У вас есть список растений на даче у бабушки. <font color=\"#8000FF\"> При помощи форматирования строк </font> выведите список растений **в алфавитном порядке** в виде:\n",
        "\n",
        "N. Название растения."
      ],
      "metadata": {
        "id": "EYjJBGLsRC4y"
      }
    },
    {
      "cell_type": "code",
      "execution_count": 71,
      "metadata": {
        "id": "z2_PuewtIpWs",
        "colab": {
          "base_uri": "https://localhost:8080/"
        },
        "outputId": "b4b6e442-c703-4639-8a0e-daf961ca3243"
      },
      "outputs": [
        {
          "output_type": "stream",
          "name": "stdout",
          "text": [
            "1. картошка\n",
            "2. клубника\n",
            "3. мальва\n",
            "4. огурцы\n",
            "5. подсолнухи\n",
            "6. томаты\n",
            "7. флоксы\n",
            "8. хосты\n"
          ]
        }
      ],
      "source": [
        "plants = [\"мальва\", \"клубника\", \"томаты\", \"огурцы\", \"флоксы\", \"картошка\", \"подсолнухи\", \"хосты\"]\n",
        "s = ''\n",
        "plants.sort()\n",
        "for i in range(len(plants)):\n",
        "  print(f\"{i + 1}. {plants[i]}\")"
      ]
    },
    {
      "cell_type": "markdown",
      "source": [
        "## 5. Погода на улице.\n",
        "\n",
        "Сейчас весна, у вашей бабушки уже высажена рассада перцев в парник. Однако она боится заморозков. Ваша задача - считать с клавиатуры значение температуры:\n",
        "\n",
        "Если t<5, надо вывести \"Пожалуйста, закрой полностью парник - на улице холодно\";\n",
        "\n",
        "Если t от 5 до 10, надо вывести \"Пожалуйста, прикрой парник - на улице прохладно\";\n",
        "\n",
        "Если t больше 10, надо вывести \"Пожалуйста, открой полностью парник - на улице тепло\"."
      ],
      "metadata": {
        "id": "amXMFPIxKq7s"
      }
    },
    {
      "cell_type": "code",
      "execution_count": 25,
      "metadata": {
        "id": "F9Xwk-ldIpeY",
        "colab": {
          "base_uri": "https://localhost:8080/"
        },
        "outputId": "fd5488ee-eb37-4019-c268-1244b2c10672"
      },
      "outputs": [
        {
          "output_type": "stream",
          "name": "stdout",
          "text": [
            "34\n",
            "Пожалуйста, открой полностью парник - на улице тепло\n"
          ]
        }
      ],
      "source": [
        "t = int(input())\n",
        "if (t<5):\n",
        "  print(\"Пожалуйста, закрой полностью парник - на улице холодно\")\n",
        "elif (t<=10):\n",
        "  print(\"Пожалуйста, прикрой парник - на улице прохладно\")\n",
        "else:\n",
        "  print(\"Пожалуйста, открой полностью парник - на улице тепло\")"
      ]
    },
    {
      "cell_type": "markdown",
      "source": [
        "## 6. Список любимых томатов.\n",
        "\n",
        "У вашей бабушки есть любимые сорта томатов, но не все из них она посадила в этом году. У вас есть словарь, где ключ - название сорта, а по значению лежит количество кустов, высаженных в этом году.\n",
        "\n",
        "Ваша задача - вывести список сортов, которые были высажены в этом году (если высажено 0 кустов, то этот сорт в этом году не сажался)."
      ],
      "metadata": {
        "id": "AoT449EwIoN0"
      }
    },
    {
      "cell_type": "code",
      "execution_count": 26,
      "metadata": {
        "id": "r61uXx7PIpkJ",
        "colab": {
          "base_uri": "https://localhost:8080/"
        },
        "outputId": "09b3a4dd-cf44-45a1-fff6-87ce63ec29c9"
      },
      "outputs": [
        {
          "output_type": "stream",
          "name": "stdout",
          "text": [
            "Бычье сердце\n",
            "Любаша\n",
            "Космонавт Волков\n"
          ]
        }
      ],
      "source": [
        "tomatoes = {\"Бычье сердце\": 4, \"Любаша\": 1, \"Титаник\": 0, \"Космонавт Волков\": 7}\n",
        "tomatoes[\"Монеточка\"] = 5\n",
        "\n",
        "tomatoes = {\"Бычье сердце\": 4, \"Любаша\": 1, \"Титаник\": 0, \"Космонавт Волков\": 7}\n",
        "for (a, b) in tomatoes.items():\n",
        "  if b > 0:\n",
        "    print(a)"
      ]
    },
    {
      "cell_type": "markdown",
      "source": [
        "## 7. Словари.\n",
        "\n",
        "Создайте словарь, где ключами будут числа от 0 до 20 включительно, а значения -\n",
        "1. -1, если значение ключа делится на 5\n",
        "2. 1 иначе\n",
        "\n",
        "\n",
        "<font color=\"#8000FF\"> Используйте comprehensions </font>"
      ],
      "metadata": {
        "id": "M7EBZSFGLiVy"
      }
    },
    {
      "cell_type": "code",
      "execution_count": 27,
      "metadata": {
        "id": "2JxdQGZJIppV",
        "colab": {
          "base_uri": "https://localhost:8080/"
        },
        "outputId": "70f09d5a-5d61-4040-91be-b8e633a4ecc6"
      },
      "outputs": [
        {
          "output_type": "execute_result",
          "data": {
            "text/plain": [
              "{0: -1,\n",
              " 1: 1,\n",
              " 2: 1,\n",
              " 3: 1,\n",
              " 4: 1,\n",
              " 5: -1,\n",
              " 6: 1,\n",
              " 7: 1,\n",
              " 8: 1,\n",
              " 9: 1,\n",
              " 10: -1,\n",
              " 11: 1,\n",
              " 12: 1,\n",
              " 13: 1,\n",
              " 14: 1,\n",
              " 15: -1,\n",
              " 16: 1,\n",
              " 17: 1,\n",
              " 18: 1,\n",
              " 19: 1}"
            ]
          },
          "metadata": {},
          "execution_count": 27
        }
      ],
      "source": [
        "my_dict = {x: -2 * (x % 5 == 0) + 1 for x in range(20)}\n",
        "my_dict"
      ]
    },
    {
      "cell_type": "markdown",
      "source": [
        "## 8. Ох уж эти корейцы\n",
        "\n",
        "Вам дан список с возрастами людей в одной неизвестной корейской фирме. Вышел новый закон, который постановляет, что теперь возраст сотрудников считается не традиционным способом, а по факту рождения. Менеджер компании попросил вас перезаполнить базу данных, обновив возраст сотрудников по правилу:\n",
        "\n",
        "$age = (age + 1)$\n",
        "\n",
        " <font color=\"#8000FF\"> Используйте функцию `map`</font>"
      ],
      "metadata": {
        "id": "ZTrqV-ixUhcj"
      }
    },
    {
      "cell_type": "code",
      "source": [
        "import random\n",
        "ages = random.choices(list(range(20, 65)), k=100500)\n",
        "print(ages[1])\n",
        "new_age = list(map(lambda x: x+1, ages))\n",
        "print(new_age[1])"
      ],
      "metadata": {
        "id": "60H4Zi4eMSQp",
        "colab": {
          "base_uri": "https://localhost:8080/"
        },
        "outputId": "f2fe151e-f6ef-460f-fa69-db4b5c580431"
      },
      "execution_count": 28,
      "outputs": [
        {
          "output_type": "stream",
          "name": "stdout",
          "text": [
            "51\n",
            "52\n"
          ]
        }
      ]
    },
    {
      "cell_type": "markdown",
      "source": [
        "## 9. Ох уж эти корейцы - 2.0\n",
        "\n",
        "Условие такое же, как и в задаче 8, но теперь вам предстоит решить такую же задачу с использованием <font color=\"#8000FF\"> `list comprehensions` </font>"
      ],
      "metadata": {
        "id": "0wcUgWpqMls_"
      }
    },
    {
      "cell_type": "code",
      "execution_count": 29,
      "metadata": {
        "id": "FyrL43m7Iptt",
        "colab": {
          "base_uri": "https://localhost:8080/"
        },
        "outputId": "c6987519-fbb2-4776-8fb2-cf8048993da8"
      },
      "outputs": [
        {
          "output_type": "stream",
          "name": "stdout",
          "text": [
            "51\n",
            "52\n"
          ]
        }
      ],
      "source": [
        "new_age = [x+1 for x in ages]\n",
        "print(ages[1])\n",
        "print(new_age[1])"
      ]
    },
    {
      "cell_type": "markdown",
      "source": [
        "## 10. Много разных строк.\n",
        "\n",
        "Напишите функцию` get_extended_string_info`, принимающую на вход строку, а на выход выдаёт **7 строк через запятую**, полученные из оригинальной соответствующим преобразованием:\n",
        "\n",
        "1. Самое длинное слово в строке\n",
        "2. Количество слов в строке\n",
        "3. Переворачивает каждое слово в строке задом наперёд\n",
        "4. Удаляет все цифры из строки\n",
        "5. Заменяет все буквы верхнего регистра на нижний, а нижнего регистра на верхний\n",
        "6. Проверяет, является ли строка палиндромом (без учета пробелов, регистра и пунктуации, те только буквы и цифры)\n",
        "7. Если строка не является палиндромом, то выводит первые 5 символов строки в обратном порядке\n",
        "\n",
        "Т.е.  первая строка - самое длинное слово в исходной строке, вторая строка - количество слов в исходной строке и.т.д."
      ],
      "metadata": {
        "id": "0nk0f2oSM-dx"
      }
    },
    {
      "cell_type": "code",
      "execution_count": 13,
      "metadata": {
        "id": "qD-0OsRZIpw3"
      },
      "outputs": [],
      "source": [
        "def get_extended_string_info(str):\n",
        "  words = str.split()\n",
        "  longest_word = max(words, key=len)  # нашли макс слово по длине  пункт 1\n",
        "\n",
        "  quantity = len(words)   # пункт 2\n",
        "  words_space = str.split(' ') # сплитим по пробелам, чтобы их сохранить\n",
        "  words_space_reverse = [word[::-1] for word in words_space]\n",
        "\n",
        "  reverse_str = ' '.join(words_space_reverse)   # пункт 3\n",
        "\n",
        "  cleaned_str = ''\n",
        "  for word in str:\n",
        "    if word.isdigit():\n",
        "        cleaned_str += word\n",
        "  print(cleaned_str) # удалили цифры по циклу  пункт 4\n",
        "\n",
        "  str_swap = str.swapcase() # пункт 5\n",
        "\n",
        "  words_string = ''.join(words)\n",
        "  words_string_space = ''.join(words_space) # тут что-то жестко накостылил, простите:(\n",
        "  words_string_reverse = words_string[::-1]\n",
        "  words_string_space_reverse = words_string_space[::-1]\n",
        "\n",
        "  if (words_string_reverse == words_string):  # пункт 6\n",
        "    answer = ('Палиндром')\n",
        "    answer_2 = None\n",
        "  else:\n",
        "    answer = ('Не палиндром')\n",
        "    answer_2 = words_string_space_reverse[:5]  # пункт 7\n",
        "\n",
        "  return longest_word, quantity, reverse_str, cleaned_str, str_swap, answer, answer_2\n"
      ]
    },
    {
      "cell_type": "code",
      "source": [
        "str1 = \"13  gфдф 21\"\n",
        "words = str.split()\n",
        "words_space = str1.split(' ') # сплитим по пробелам, чтобы их сохранить    *** Тут у меня поле для проверки\n",
        "words_space_reverse = [word[::-1] for word in words_space]\n",
        "reverse_str = ' '.join(words_space_reverse)   # пункт 3\n",
        "quantity = len(words)\n",
        "cleaned_str = ''\n",
        "for word in str1:\n",
        "    if not word.isdigit():\n",
        "        cleaned_str += word\n",
        "print(cleaned_str)\n",
        "str_swap = str1.swapcase()\n",
        "print(str_swap)\n",
        "\n",
        "words_string = ''.join(words)\n",
        "words_string_reverse = words_string[::-1]\n",
        "if (words_string_reverse == words_string):\n",
        "  print('Палиндром')\n",
        "else:\n",
        "  print('Не палиндром')\n",
        "print(quantity)"
      ],
      "metadata": {
        "colab": {
          "base_uri": "https://localhost:8080/"
        },
        "id": "WpEZofhTD0k8",
        "outputId": "d49a447c-b403-4532-cc32-2ea83da728d7"
      },
      "execution_count": 63,
      "outputs": [
        {
          "output_type": "stream",
          "name": "stdout",
          "text": [
            "  gфдф \n",
            "13  GФДФ 21\n",
            "Не палиндром\n",
            "3\n"
          ]
        }
      ]
    },
    {
      "cell_type": "markdown",
      "source": [
        "## 11. Турецкие сериалы.\n",
        "\n",
        "Из администрации школы вам поступили списки турецких студентов, сдававших экзамены по математике и физике в виде словаря \"имя\": tuple(оценка по физике, оценка по математике)\n",
        "\n",
        "Если оценка ниже трех - студент не сдал, если ниже четырех - не получает стипендию. Если хотябы один предмет не сдан, то это отчисление\n",
        "\n",
        "1. <font color=\"#8000FF\"> С помощью comprehensions </font> сформируйте списки студентов, кто сдал экзамены на проход/стипу. Подумайте, какие категории вам нужны\n",
        "\n",
        "2. Сформируйте списки на стипендию и на отчисление"
      ],
      "metadata": {
        "id": "DSlSqjt0N0-3"
      }
    },
    {
      "cell_type": "code",
      "source": [
        "exam_scores = {\n",
        "    \"Serkan Bolat\": (3, 4),\n",
        "    \"Burak Deniz\": (5, 3),\n",
        "    \"Ahmet Yildirim\": (2, 5),\n",
        "    \"Merve Kaya\": (4, 4),\n",
        "    \"Emre Demir\": (2, 2),\n",
        "    \"Zeynep Arslan\": (3, 3),\n",
        "    \"Mustafa Yilmaz\": (5, 4),\n",
        "    \"Elif Ozdemir\": (4, 3),\n",
        "    \"Canan Karaca\": (2, 4),\n",
        "    \"Yusuf Sahin\": (5, 5),\n",
        "    \"Selin Cengiz\": (3, 2),\n",
        "    \"Kerem Gunes\": (4, 5),\n",
        "    \"Duru Aydin\": (3, 4),\n",
        "    \"Omer Yilmaz\": (2, 3),\n",
        "    \"Esra Uysal\": (4, 4),\n",
        "    \"Halil Yalcin\": (3, 3),\n",
        "    \"Ayse Yildirim\": (5, 4),\n",
        "    \"Fatma Demir\": (2, 2),\n",
        "    \"Ali Gokce\": (4, 3),\n",
        "    \"Cemre Erdem\": (3, 5)\n",
        "}\n"
      ],
      "metadata": {
        "id": "1Zf73sEgOC43"
      },
      "execution_count": 2,
      "outputs": []
    },
    {
      "cell_type": "code",
      "execution_count": 4,
      "metadata": {
        "id": "faZRQH5pIpzu",
        "colab": {
          "base_uri": "https://localhost:8080/"
        },
        "outputId": "f010c60f-2d9f-45cf-c1a7-9caaa1bfed5f"
      },
      "outputs": [
        {
          "output_type": "stream",
          "name": "stdout",
          "text": [
            "['Merve Kaya', 'Mustafa Yilmaz', 'Yusuf Sahin', 'Kerem Gunes', 'Esra Uysal', 'Ayse Yildirim']\n",
            "['Serkan Bolat', 'Burak Deniz', 'Ahmet Yildirim', 'Emre Demir', 'Zeynep Arslan', 'Elif Ozdemir', 'Canan Karaca', 'Selin Cengiz', 'Duru Aydin', 'Omer Yilmaz', 'Halil Yalcin', 'Fatma Demir', 'Ali Gokce', 'Cemre Erdem']\n",
            "['Serkan Bolat', 'Burak Deniz', 'Merve Kaya', 'Zeynep Arslan', 'Mustafa Yilmaz', 'Elif Ozdemir', 'Yusuf Sahin', 'Kerem Gunes', 'Duru Aydin', 'Esra Uysal', 'Halil Yalcin', 'Ayse Yildirim', 'Ali Gokce', 'Cemre Erdem']\n"
          ]
        }
      ],
      "source": [
        "stip_student = [x for x in exam_scores if exam_scores[x][0] >= 4 and exam_scores[x][1] >= 4]\n",
        "failed_srudent = [x for x in exam_scores if exam_scores[x][0] <= 3 or exam_scores[x][1] <= 3]\n",
        "not_failed_student = [x for x in exam_scores if exam_scores[x][0] >= 3 and exam_scores[x][1] >= 3]\n",
        "\n",
        "print(stip_student)\n",
        "print(failed_srudent)\n",
        "print(not_failed_student)"
      ]
    },
    {
      "cell_type": "markdown",
      "source": [
        "## 12. Я у мамы разработчик.\n",
        "\n",
        "Возьмите функцию из задачи 10 и переиспользуйте её, чтобы получить количество слов в строке. Ненужные переменные запихните в `_` и `*_`"
      ],
      "metadata": {
        "id": "vfhNtLvpOLYn"
      }
    },
    {
      "cell_type": "code",
      "execution_count": 19,
      "metadata": {
        "id": "simmTOFbIp2V",
        "colab": {
          "base_uri": "https://localhost:8080/"
        },
        "outputId": "d904a72b-8875-4930-8811-147092629502"
      },
      "outputs": [
        {
          "output_type": "stream",
          "name": "stdout",
          "text": [
            "\n"
          ]
        },
        {
          "output_type": "execute_result",
          "data": {
            "text/plain": [
              "3"
            ]
          },
          "metadata": {},
          "execution_count": 19
        }
      ],
      "source": [
        "\n",
        "  _, quantity, *_ = get_extended_string_info('lwejr pqwoeir o')\n",
        "  quantity"
      ]
    },
    {
      "cell_type": "markdown",
      "source": [
        "## 13. Не перевелись ещё богатыри на Руси! - часть 1.\n",
        "\n",
        "Вам дана очень длинная строка с фамилиями, отчествами и именами потенциальных богатырей.\n",
        "\n",
        "Ваша задача - <font color=\"#8000FF\">используя цикл for</font> получить список имён из неё, после чего вывести все **уникальные** имена."
      ],
      "metadata": {
        "id": "uFJ9mDlv1q9-"
      }
    },
    {
      "cell_type": "code",
      "execution_count": 24,
      "metadata": {
        "id": "w8gXe9q-oElJ"
      },
      "outputs": [],
      "source": [
        "slavic_names = '''\n",
        "Ратибор Васелинович Чеславов\n",
        "Веселин Истиславович Гремиславовский\n",
        "Хотимир Владимирович Жирославовский\n",
        "Бронислав Властимирович Бранимировский\n",
        "Васелин Граниславович Богданов\n",
        "Истислав Мутимирович Станиславов\n",
        "Вячеслав Велиградович Белославов\n",
        "Ярополк Хотимирович Станиславовский\n",
        "Тихомир Судиславович Васелинов\n",
        "Гранислав Истиславович Жирославов\n",
        "Белослав Мечиславович Мирославовский\n",
        "Властимир Богданович Гремиславов\n",
        "Гостевид Пересветович Мстиславов\n",
        "Бранимир Горисветович Велимиров\n",
        "Веселин Ратиборович Станиславов\n",
        "Вячеслав Истиславович Драгомыслов\n",
        "Васелин Велимирович Венцеславов\n",
        "Добромир Богославович Судиславов\n",
        "Тихомир Святославович Васелинов\n",
        "Вышеслав Граниславович Доброславов\n",
        "Драгомысл Ярославович Вышеславов\n",
        "Мечислав Гостевидович Станиславовский\n",
        "Градислав Веселинович Драгомыслов\n",
        "Доброслав Велимирович Святополков\n",
        "Пересвет Хотимирович Тихомиров\n",
        "Святослав Тихомирович Граниславов\n",
        "Жирослав Гремиславович Богославов\n",
        "Гранислав Перемыслович Васелинов\n",
        "Гостевид Хотимирович Ратиборов\n",
        "Гостевид Мутимирович Томиславов\n",
        "Тихомир Владимирович Веселинов\n",
        "Мстислав Хотимирович Истиславовский\n",
        "Чеслав Святополкович Веселинов\n",
        "Владимир Истиславович Властимиров\n",
        "Добромир Святополкович Доброжиров\n",
        "Томислав Истиславович Судиславовский\n",
        "Веселин Хотимирович Мстиславов\n",
        "Владимир Яромирович Судиславов\n",
        "Добромир Судиславович Жирославов\n",
        "Вышеслав Милорадович Белославовский\n",
        "Судислав Властимирович Бранимиров\n",
        "Перемысл Жирославович Бранимиров\n",
        "Драгомир Добромирович Мирославов\n",
        "Вячеслав Доброславович Судиславов\n",
        "Хотимир Перемыслович Богославов\n",
        "Веселин Мстиславович Ясномыслов\n",
        "Яромир Велиградович Истиславов\n",
        "Яромир Граниславович Веселиновский\n",
        "Ярослав Жирославович Святополков\n",
        "Горисвет Ярополкович Станиславовский\n",
        "'''"
      ]
    },
    {
      "cell_type": "code",
      "source": [
        "new_list = slavic_names.split()\n",
        "names = []\n",
        "for i in range(len(new_list)):\n",
        "  if (i % 3 == 0):  # потому что каждый третий будет\n",
        "     names.append(new_list[i])\n",
        "print(names)\n"
      ],
      "metadata": {
        "colab": {
          "base_uri": "https://localhost:8080/"
        },
        "id": "RNzirp-guuhS",
        "outputId": "94a02070-1d5a-44e2-9e36-998a2c518bf0"
      },
      "execution_count": 30,
      "outputs": [
        {
          "output_type": "stream",
          "name": "stdout",
          "text": [
            "['Ратибор', 'Веселин', 'Хотимир', 'Бронислав', 'Васелин', 'Истислав', 'Вячеслав', 'Ярополк', 'Тихомир', 'Гранислав', 'Белослав', 'Властимир', 'Гостевид', 'Бранимир', 'Веселин', 'Вячеслав', 'Васелин', 'Добромир', 'Тихомир', 'Вышеслав', 'Драгомысл', 'Мечислав', 'Градислав', 'Доброслав', 'Пересвет', 'Святослав', 'Жирослав', 'Гранислав', 'Гостевид', 'Гостевид', 'Тихомир', 'Мстислав', 'Чеслав', 'Владимир', 'Добромир', 'Томислав', 'Веселин', 'Владимир', 'Добромир', 'Вышеслав', 'Судислав', 'Перемысл', 'Драгомир', 'Вячеслав', 'Хотимир', 'Веселин', 'Яромир', 'Яромир', 'Ярослав', 'Горисвет']\n"
          ]
        }
      ]
    },
    {
      "cell_type": "markdown",
      "source": [
        "## 14. Не перевелись ещё богатыри на Руси! - часть 2.\n",
        "\n",
        "Вам дана очень длинная строка с фамилиями, отчествами и именами потенциальных богатырей.\n",
        "\n",
        "Ваша задача - <font color=\"#8000FF\">при помощи list comprehensions</font> получить список имён из неё, после чего вывести все **уникальные** имена."
      ],
      "metadata": {
        "id": "fBDeNsjooWXD"
      }
    },
    {
      "cell_type": "code",
      "source": [
        "names_2 = [slavic_names.split()[i] for i in range(len(slavic_names.split())) if (i % 3 == 0)]\n",
        "names_2"
      ],
      "metadata": {
        "id": "55SRUaKLrdyR",
        "colab": {
          "base_uri": "https://localhost:8080/"
        },
        "outputId": "8f7bb559-3980-4432-9302-7b669880f84a"
      },
      "execution_count": 39,
      "outputs": [
        {
          "output_type": "execute_result",
          "data": {
            "text/plain": [
              "['Ратибор',\n",
              " 'Веселин',\n",
              " 'Хотимир',\n",
              " 'Бронислав',\n",
              " 'Васелин',\n",
              " 'Истислав',\n",
              " 'Вячеслав',\n",
              " 'Ярополк',\n",
              " 'Тихомир',\n",
              " 'Гранислав',\n",
              " 'Белослав',\n",
              " 'Властимир',\n",
              " 'Гостевид',\n",
              " 'Бранимир',\n",
              " 'Веселин',\n",
              " 'Вячеслав',\n",
              " 'Васелин',\n",
              " 'Добромир',\n",
              " 'Тихомир',\n",
              " 'Вышеслав',\n",
              " 'Драгомысл',\n",
              " 'Мечислав',\n",
              " 'Градислав',\n",
              " 'Доброслав',\n",
              " 'Пересвет',\n",
              " 'Святослав',\n",
              " 'Жирослав',\n",
              " 'Гранислав',\n",
              " 'Гостевид',\n",
              " 'Гостевид',\n",
              " 'Тихомир',\n",
              " 'Мстислав',\n",
              " 'Чеслав',\n",
              " 'Владимир',\n",
              " 'Добромир',\n",
              " 'Томислав',\n",
              " 'Веселин',\n",
              " 'Владимир',\n",
              " 'Добромир',\n",
              " 'Вышеслав',\n",
              " 'Судислав',\n",
              " 'Перемысл',\n",
              " 'Драгомир',\n",
              " 'Вячеслав',\n",
              " 'Хотимир',\n",
              " 'Веселин',\n",
              " 'Яромир',\n",
              " 'Яромир',\n",
              " 'Ярослав',\n",
              " 'Горисвет']"
            ]
          },
          "metadata": {},
          "execution_count": 39
        }
      ]
    },
    {
      "cell_type": "markdown",
      "source": [
        "## 15. Генератор богатырских имён.\n",
        "\n",
        "\n",
        "Современные родители любят имена с духом старины. Проанализируйте список имён (именно имён, а не отчеств/фамилий) из задачи 13. Выделите (чисто визуально) 6 возможных начал имён и 6 возможных концов имён (например, Яро - начало, Полк - конец, а вместе имя - Ярополк) и напишите функцию `generate_random_old_slavic_name`, которая при помощи random.choice выдаёт случайное имя.\n",
        "\n",
        "При помощи цикла вызовите функцию 10 раз и выведите, что получилось."
      ],
      "metadata": {
        "id": "QLVpQyJnK5Bc"
      }
    },
    {
      "cell_type": "code",
      "source": [
        "import random\n",
        "def generate_random_old_slavic_name():\n",
        "    names_list_begin = ['Яро','Добро','Гори','Влад','Тихо','Грани']\n",
        "    names_list_end = ['слав','мир','мысл','свет','вид','лин']\n",
        "    return (random.choice(names_list_begin) + random.choice(names_list_end))\n",
        "for i in range(9):\n",
        "  print(generate_random_old_slavic_name()) # задание - мем, мне понравилось:)\n",
        "  i += 1"
      ],
      "metadata": {
        "id": "0burcuqjMQ30",
        "colab": {
          "base_uri": "https://localhost:8080/"
        },
        "outputId": "f56de47d-d360-43fb-bfa0-524a82220e64"
      },
      "execution_count": 50,
      "outputs": [
        {
          "output_type": "stream",
          "name": "stdout",
          "text": [
            "Владмир\n",
            "Тихолин\n",
            "Добросвет\n",
            "Тихослав\n",
            "Горислав\n",
            "Доброслав\n",
            "Яровид\n",
            "Яролин\n",
            "Добролин\n"
          ]
        }
      ]
    },
    {
      "cell_type": "markdown",
      "source": [
        "## 16. Один день, еще один, да один день - часть 1.\n",
        "\n",
        "Перед вами список некоторых князей Киевских и годы их правления.\n",
        "\n",
        "Ваша задача - <font color=\"#8000FF\">при помощи лямбда-функции и функции sort</font> отсортировать их в порядке возрастания количества лет, которых они провели на престоле."
      ],
      "metadata": {
        "id": "Td8QhrRJ_wdO"
      }
    },
    {
      "cell_type": "code",
      "source": [
        "rulers = [{\"name\": \"Олег Вещий\", \"year_start\": 882, \"year_end\": 912},\n",
        "          {\"name\": \"Игорь Рюрикович\", \"year_start\": 912, \"year_end\": 945},\n",
        "          {\"name\": \"Ольга\", \"year_start\": 945, \"year_end\": 960},\n",
        "          {\"name\": \"Святослав Игоревич\", \"year_start\": 945, \"year_end\": 972},\n",
        "          {\"name\": \"Ярополк Святославич\", \"year_start\": 972, \"year_end\": 978},\n",
        "          {\"name\": \"Владимир Святославич\", \"year_start\": 978, \"year_end\": 1015}]"
      ],
      "metadata": {
        "id": "oxgCN37HJEHk"
      },
      "execution_count": 46,
      "outputs": []
    },
    {
      "cell_type": "code",
      "source": [
        "sorted_rulers = sorted(rulers, key=lambda x: x['year_end'] - x['year_start'])\n",
        "sorted_rulers"
      ],
      "metadata": {
        "id": "WpbJzN82KUki",
        "colab": {
          "base_uri": "https://localhost:8080/"
        },
        "outputId": "614dea14-eeb4-4b04-fa04-7bfb3c7b0772"
      },
      "execution_count": 48,
      "outputs": [
        {
          "output_type": "execute_result",
          "data": {
            "text/plain": [
              "[{'name': 'Ярополк Святославич', 'year_start': 972, 'year_end': 978},\n",
              " {'name': 'Ольга', 'year_start': 945, 'year_end': 960},\n",
              " {'name': 'Святослав Игоревич', 'year_start': 945, 'year_end': 972},\n",
              " {'name': 'Олег Вещий', 'year_start': 882, 'year_end': 912},\n",
              " {'name': 'Игорь Рюрикович', 'year_start': 912, 'year_end': 945},\n",
              " {'name': 'Владимир Святославич', 'year_start': 978, 'year_end': 1015}]"
            ]
          },
          "metadata": {},
          "execution_count": 48
        }
      ]
    },
    {
      "cell_type": "markdown",
      "source": [
        "## 17. Один день, ещё один, да один день - часть 2.\n",
        "\n",
        "Перед вами список некоторых князей Киевских и годы их правления.\n",
        "\n",
        "Ваша задача - <font color=\"#8000FF\">при помощи лямбда-функции и функции filter</font> выбрать из них тех, кто правил дольше 17 лет или является Ольгой."
      ],
      "metadata": {
        "id": "VP2Nn03BKWOo"
      }
    },
    {
      "cell_type": "code",
      "source": [
        "filtered_rulers = list(filter(lambda x: (x['year_end'] - x['year_start']) > 17 or x['name'] == 'Ольга', rulers))\n",
        "filtered_rulers"
      ],
      "metadata": {
        "id": "hNkpXtt1KkDE",
        "colab": {
          "base_uri": "https://localhost:8080/"
        },
        "outputId": "e320cd82-47d2-4695-b4c9-49a20c755a3c"
      },
      "execution_count": 49,
      "outputs": [
        {
          "output_type": "execute_result",
          "data": {
            "text/plain": [
              "[{'name': 'Олег Вещий', 'year_start': 882, 'year_end': 912},\n",
              " {'name': 'Игорь Рюрикович', 'year_start': 912, 'year_end': 945},\n",
              " {'name': 'Ольга', 'year_start': 945, 'year_end': 960},\n",
              " {'name': 'Святослав Игоревич', 'year_start': 945, 'year_end': 972},\n",
              " {'name': 'Владимир Святославич', 'year_start': 978, 'year_end': 1015}]"
            ]
          },
          "metadata": {},
          "execution_count": 49
        }
      ]
    },
    {
      "cell_type": "markdown",
      "source": [
        "## 18. Кому на Руси жить хорошо - часть 1.\n",
        "\n",
        "*В Древней Руси больше всего боялись тех, кто отсидел, потому что тогда сажали на кол.*\n",
        "\n",
        "Перед вами два словаря - словарь `paid_money` - количество золота, сколько этот боярин заплатил в казну и словарь `real_money` - количество золота, которое реально заработал боярин.\n",
        "\n",
        "<font color=\"#8000FF\">При помощи цикла for</font> выведи список имён бояр, которые заплатили менее десятой части от своих настоящих доходов - это те бояре, которых в следующем месяце придётся посадить на кол."
      ],
      "metadata": {
        "id": "uQmzqitT9zCx"
      }
    },
    {
      "cell_type": "code",
      "source": [
        "paid_money = {\"Козьма Григорьевич\": 70,\n",
        "              \"Аврам Стефанович\": 101,\n",
        "              \"Захарий Григорьевич\": 15,\n",
        "              \"Онцифор Лукинич\": 208}\n",
        "\n",
        "real_money = {\"Козьма Григорьевич\": 1000,\n",
        "              \"Аврам Стефанович\": 900,\n",
        "              \"Захарий Григорьевич\": 400,\n",
        "              \"Онцифор Лукинич\": 2000}"
      ],
      "metadata": {
        "id": "x_QHMKex-DM-"
      },
      "execution_count": 52,
      "outputs": []
    },
    {
      "cell_type": "code",
      "source": [
        "na_col = [] # cначала пустой, потому что просто так сажать людей на кол нехорошо\n",
        "for x in real_money:\n",
        "  if (paid_money[x] / real_money[x] < 0.1):\n",
        "    na_col.append(x)\n",
        "na_col"
      ],
      "metadata": {
        "id": "_rXLJj8M-BlC",
        "colab": {
          "base_uri": "https://localhost:8080/"
        },
        "outputId": "039e9a2d-fa2f-42bf-dc9d-50e0f0eb9d99"
      },
      "execution_count": 55,
      "outputs": [
        {
          "output_type": "execute_result",
          "data": {
            "text/plain": [
              "['Козьма Григорьевич', 'Захарий Григорьевич']"
            ]
          },
          "metadata": {},
          "execution_count": 55
        }
      ]
    },
    {
      "cell_type": "markdown",
      "source": [
        "## 19. Кому на Руси жить хорошо - часть 2.\n",
        "\n",
        "\n",
        "Перед вами два словаря - словарь `paid_money` - количество золота, сколько этот боярин заплатил в казну и словарь `real_money` - количество золота, которое реально заработал боярин.\n",
        "\n",
        "<font color=\"#8000FF\">При помощи list comprehension и условия</font> выведи список имён бояр, которые заплатили менее десятой части от своих настоящих доходов - это те бояре, которых в следующем месяце придётся посадить на кол."
      ],
      "metadata": {
        "id": "TAhHkr-mTY9d"
      }
    },
    {
      "cell_type": "code",
      "source": [
        "na_col_2 = [x for x in paid_money if (paid_money[x] / real_money[x] < 0.1)]\n",
        "na_col_2"
      ],
      "metadata": {
        "id": "ORqNSSsGl12r",
        "colab": {
          "base_uri": "https://localhost:8080/"
        },
        "outputId": "9a0bb552-d7ae-49ea-bd80-e69cff8c66a2"
      },
      "execution_count": 56,
      "outputs": [
        {
          "output_type": "execute_result",
          "data": {
            "text/plain": [
              "['Козьма Григорьевич', 'Захарий Григорьевич']"
            ]
          },
          "metadata": {},
          "execution_count": 56
        }
      ]
    },
    {
      "cell_type": "markdown",
      "source": [
        "## 20. Здесь русский дух, здесь Русью пахнет... (2 балла)\n",
        "\n",
        "Вы задались задачей сделать самые русские духи. Для этого вы собрали несколько пробных ароматов из разных нот (ноты между ароматами могут повторяться) и провели опрос среди прохожих, спрашивая, насколько Русью пахнет данный аромат по шкале от 1 до 5 включительно.\n",
        "\n",
        "Перед вами часть ароматов и часть голосов - ваша задача:\n",
        "\n",
        "1. На основе ароматов определить множество **уникальных** нот в ароматах\n",
        "2. Определить среднее значение голосов за каждую **ноту**\n",
        "3. Вывести топ-3 ноты по среднему значению голосов - это и будут наши самые русские духи."
      ],
      "metadata": {
        "id": "_HJtKjsu2ABU"
      }
    },
    {
      "cell_type": "code",
      "source": [
        "fragrances = [{\"id\": 15, \"name\": \"Русалка\", \"notes\": \"кувшинки, вода, мох, мускус\"},\n",
        "              {\"id\": 16, \"name\": \"Жар-птица\", \"notes\": \"молоко, сандал, слива, перец\"},\n",
        "              {\"id\": 17, \"name\": \"Река-Смородина\", \"notes\": \"смородина, вода, молоко, мед\"},\n",
        "              {\"id\": 18, \"name\": \"Царевна-Лягушка\", \"notes\": \"можжевельник, вода, древесина, перец, кувшинки\"},\n",
        "              {\"id\": 19, \"name\": \"Василиса-Премудрая\", \"notes\": \"мед, яблоко, ветивер, мускус\"}]\n",
        "\n",
        "votes = [{'id': 2353, 'fragrance_id': 19, 'vote_res': 2}, {'id': 2354, 'fragrance_id': 15, 'vote_res': 2}, {'id': 2355, 'fragrance_id': 18, 'vote_res': 1}, {'id': 2356, 'fragrance_id': 19, 'vote_res': 4}, {'id': 2357, 'fragrance_id': 16, 'vote_res': 4}, {'id': 2358, 'fragrance_id': 16, 'vote_res': 1}, {'id': 2359, 'fragrance_id': 18, 'vote_res': 1}, {'id': 2360, 'fragrance_id': 15, 'vote_res': 5}, {'id': 2361, 'fragrance_id': 18, 'vote_res': 5}, {'id': 2362, 'fragrance_id': 16, 'vote_res': 4}, {'id': 2363, 'fragrance_id': 19, 'vote_res': 2}, {'id': 2364, 'fragrance_id': 17, 'vote_res': 1}, {'id': 2365, 'fragrance_id': 15, 'vote_res': 1}, {'id': 2366, 'fragrance_id': 18, 'vote_res': 5}, {'id': 2367, 'fragrance_id': 19, 'vote_res': 3}, {'id': 2368, 'fragrance_id': 17, 'vote_res': 1}, {'id': 2369, 'fragrance_id': 18, 'vote_res': 1}, {'id': 2370, 'fragrance_id': 18, 'vote_res': 3}, {'id': 2371, 'fragrance_id': 15, 'vote_res': 2}, {'id': 2372, 'fragrance_id': 17, 'vote_res': 2}, {'id': 2373, 'fragrance_id': 16, 'vote_res': 2}, {'id': 2374, 'fragrance_id': 18, 'vote_res': 3}, {'id': 2375, 'fragrance_id': 19, 'vote_res': 1}, {'id': 2376, 'fragrance_id': 16, 'vote_res': 1}, {'id': 2377, 'fragrance_id': 16, 'vote_res': 2}, {'id': 2378, 'fragrance_id': 16, 'vote_res': 3}, {'id': 2379, 'fragrance_id': 18, 'vote_res': 2}, {'id': 2380, 'fragrance_id': 18, 'vote_res': 5}, {'id': 2381, 'fragrance_id': 15, 'vote_res': 3}, {'id': 2382, 'fragrance_id': 19, 'vote_res': 5}, {'id': 2383, 'fragrance_id': 17, 'vote_res': 4}, {'id': 2384, 'fragrance_id': 18, 'vote_res': 5}, {'id': 2385, 'fragrance_id': 19, 'vote_res': 3}, {'id': 2386, 'fragrance_id': 17, 'vote_res': 3}, {'id': 2387, 'fragrance_id': 17, 'vote_res': 5}, {'id': 2388, 'fragrance_id': 18, 'vote_res': 1}, {'id': 2389, 'fragrance_id': 19, 'vote_res': 1}, {'id': 2390, 'fragrance_id': 15, 'vote_res': 1}, {'id': 2391, 'fragrance_id': 19, 'vote_res': 5}, {'id': 2392, 'fragrance_id': 15, 'vote_res': 2}, {'id': 2393, 'fragrance_id': 15, 'vote_res': 3}, {'id': 2394, 'fragrance_id': 17, 'vote_res': 5}, {'id': 2395, 'fragrance_id': 15, 'vote_res': 5}, {'id': 2396, 'fragrance_id': 17, 'vote_res': 2}, {'id': 2397, 'fragrance_id': 15, 'vote_res': 5}, {'id': 2398, 'fragrance_id': 17, 'vote_res': 5}, {'id': 2399, 'fragrance_id': 18, 'vote_res': 4}, {'id': 2400, 'fragrance_id': 16, 'vote_res': 1}, {'id': 2401, 'fragrance_id': 17, 'vote_res': 5}, {'id': 2402, 'fragrance_id': 16, 'vote_res': 3}]"
      ],
      "metadata": {
        "id": "zvkU2KEy2WH8"
      },
      "execution_count": 74,
      "outputs": []
    },
    {
      "cell_type": "code",
      "source": [
        "notes = []\n",
        "for i in range(len(fragrances)):\n",
        "  notes += (fragrances[i]['notes']).split(', ')\n",
        "\n",
        "notes = list(set(notes)) # пункт 1\n",
        "\n",
        "votes_notes = {}\n",
        "for i in range(len(notes)):\n",
        "  votes_notes[i] = [notes[i],0, 0, 0] # тут голоса и кол-во ароматов и среднее\n",
        "for i in range(len(notes)):\n",
        "  for j in range(len(fragrances)):\n",
        "    if (notes[i] in fragrances[j]['notes']):\n",
        "      votes_notes[i].append(fragrances[j]['id']) # теперь каждой ноте есть id ароматов где она есть\n",
        "\n",
        "for i in range(len(notes)): # для каждой ноты проходимся по голосам\n",
        "  for j in range(len(votes)):\n",
        "     if (votes[j]['fragrance_id'] in votes_notes[i]):\n",
        "        votes_notes[i][1] += votes[j]['vote_res']  # прибавили баллов ноте\n",
        "        votes_notes[i][2] += 1 # прибавили +1 к кол-ву ароматов где она есть\n",
        "\n",
        "for i in range(len(notes)):\n",
        "  votes_notes[i][3] = votes_notes[i][1] / votes_notes[i][2]\n",
        "\n",
        "print(votes_notes)\n",
        "\n",
        "list_votes_notes = []  # сделал так потому что сортировка с {} не получалась\n",
        "\n",
        "for i in range(len(votes_notes)):\n",
        "  list_votes_notes.append([votes_notes[i][0], votes_notes[i][3]])\n",
        "\n",
        "sorted_votes_notes = sorted(list_votes_notes, key=lambda x: x[1])\n",
        "print(sorted_votes_notes[-1], sorted_votes_notes[-2], sorted_votes_notes[-3])\n"
      ],
      "metadata": {
        "id": "vG9JTNLM4eSE",
        "colab": {
          "base_uri": "https://localhost:8080/"
        },
        "outputId": "6f6d2a3f-87e4-4fcd-d23e-edfaddeac560"
      },
      "execution_count": 120,
      "outputs": [
        {
          "output_type": "stream",
          "name": "stdout",
          "text": [
            "{0: ['древесина', 38, 13, 2.923076923076923, 18], 1: ['слива', 25, 10, 2.5, 16], 2: ['яблоко', 30, 10, 3.0, 19], 3: ['мох', 29, 10, 2.9, 15], 4: ['вода', 101, 33, 3.0606060606060606, 15, 17, 18], 5: ['ветивер', 30, 10, 3.0, 19], 6: ['мед', 61, 21, 2.9047619047619047, 17, 19], 7: ['сандал', 25, 10, 2.5, 16], 8: ['можжевельник', 38, 13, 2.923076923076923, 18], 9: ['мускус', 60, 20, 3.0, 15, 19], 10: ['молоко', 59, 20, 2.95, 16, 17], 11: ['перец', 61, 23, 2.652173913043478, 16, 18], 12: ['кувшинки', 65, 22, 2.9545454545454546, 15, 18], 13: ['смородина', 33, 10, 3.3, 17]}\n",
            "['смородина', 3.3] ['вода', 3.0606060606060606] ['мускус', 3.0]\n"
          ]
        }
      ]
    }
  ]
}